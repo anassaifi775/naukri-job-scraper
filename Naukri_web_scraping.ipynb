{
 "cells": [
  {
   "cell_type": "code",
   "execution_count": 2,
   "metadata": {},
   "outputs": [],
   "source": [
    "import pandas as pd\n",
    "import numpy as np"
   ]
  },
  {
   "cell_type": "code",
   "execution_count": 3,
   "metadata": {},
   "outputs": [],
   "source": [
    "from selenium import webdriver"
   ]
  },
  {
   "cell_type": "code",
   "execution_count": 14,
   "metadata": {},
   "outputs": [
    {
     "name": "stdout",
     "output_type": "stream",
     "text": [
      "Requirement already satisfied: chromedriver_binary in /opt/miniconda3/lib/python3.13/site-packages (139.0.7241.0.0)\n"
     ]
    }
   ],
   "source": [
    "!pip install chromedriver_binary"
   ]
  },
  {
   "cell_type": "code",
   "execution_count": 4,
   "metadata": {},
   "outputs": [],
   "source": [
    "import chromedriver_binary"
   ]
  },
  {
   "cell_type": "code",
   "execution_count": 5,
   "metadata": {},
   "outputs": [
    {
     "data": {
      "text/plain": [
       "'/opt/miniconda3/lib/python3.13/site-packages/chromedriver_binary/chromedriver'"
      ]
     },
     "execution_count": 5,
     "metadata": {},
     "output_type": "execute_result"
    }
   ],
   "source": [
    "chromedriver_binary.chromedriver_filename"
   ]
  },
  {
   "cell_type": "code",
   "execution_count": 24,
   "metadata": {},
   "outputs": [
    {
     "name": "stdout",
     "output_type": "stream",
     "text": [
      "Collecting bs4\n",
      "  Downloading bs4-0.0.2-py2.py3-none-any.whl.metadata (411 bytes)\n",
      "Collecting beautifulsoup4 (from bs4)\n",
      "  Downloading beautifulsoup4-4.13.4-py3-none-any.whl.metadata (3.8 kB)\n",
      "Collecting soupsieve>1.2 (from beautifulsoup4->bs4)\n",
      "  Downloading soupsieve-2.7-py3-none-any.whl.metadata (4.6 kB)\n",
      "Requirement already satisfied: typing-extensions>=4.0.0 in /opt/miniconda3/lib/python3.13/site-packages (from beautifulsoup4->bs4) (4.13.2)\n",
      "Downloading bs4-0.0.2-py2.py3-none-any.whl (1.2 kB)\n",
      "Downloading beautifulsoup4-4.13.4-py3-none-any.whl (187 kB)\n",
      "Downloading soupsieve-2.7-py3-none-any.whl (36 kB)\n",
      "Installing collected packages: soupsieve, beautifulsoup4, bs4\n",
      "Successfully installed beautifulsoup4-4.13.4 bs4-0.0.2 soupsieve-2.7\n"
     ]
    }
   ],
   "source": [
    "!pip install bs4"
   ]
  },
  {
   "cell_type": "code",
   "execution_count": 239,
   "metadata": {},
   "outputs": [],
   "source": [
    "from selenium import webdriver\n",
    "from selenium.webdriver.chrome.service import Service\n",
    "from selenium.webdriver.chrome.options import Options\n",
    "import time\n",
    "from bs4 import BeautifulSoup\n",
    "import requests\n",
    "from tqdm import tqdm\n",
    "\n",
    "# Setup\n",
    "chrome_path = \"/Users/soniya/VSCode-Backup/chromedriver\"\n",
    "\n",
    "# Add executable permission (optional, but safe)\n",
    "import os\n",
    "os.chmod(chrome_path, 0o755)\n",
    "\n",
    "# Configure service and options\n",
    "service = Service(chrome_path)\n",
    "options = Options()\n",
    "\n",
    "# Keep the browser open after script ends\n",
    "options.add_experimental_option(\"detach\", True)\n",
    "\n",
    "# Launch the browser\n",
    "driver = webdriver.Chrome(service=service, options=options)\n",
    "\n"
   ]
  },
  {
   "cell_type": "code",
   "execution_count": 242,
   "metadata": {},
   "outputs": [
    {
     "name": "stderr",
     "output_type": "stream",
     "text": [
      "100%|██████████| 4000/4000 [2:41:28<00:00,  2.42s/it]  \n"
     ]
    }
   ],
   "source": [
    "data =[]\n",
    "\n",
    "for page in tqdm (range(1,4001)):\n",
    "    link= 'https://www.naukri.com/data-analyst-jobs-in-india-' + str(page)\n",
    "    driver.get(link)\n",
    "    res=requests.get(link)\n",
    "    time.sleep(2)\n",
    "    soup=BeautifulSoup(driver.page_source,'html.parser')\n",
    "    for job in soup.find_all('div',class_='srp-jobtuple-wrapper'):\n",
    "        try:\n",
    "            title=(job.find('a',class_='title').text)\n",
    "        except:\n",
    "            title=np.nan\n",
    "        try:    \n",
    "            job_link=job.find('a',class_='title').get('href')\n",
    "        except:\n",
    "            title=np.nan    \n",
    "        try:\n",
    "            stars=(job.find('span',class_='main-2').text)\n",
    "        except:\n",
    "            stars=np.nan\n",
    "        try:\n",
    "            company=(job.find('a' ,class_=\"comp-name mw-25\")).text\n",
    "        except:\n",
    "            company=np.nan\n",
    "        try:\n",
    "            reviews=(job.find_all('a', class_='review ver-line')[-1].text.split()[0])\n",
    "\n",
    "        except:\n",
    "            reviews=np.nan\n",
    "        try:\n",
    "            experience= job.find('span',class_='ni-job-tuple-icon ni-job-tuple-icon-srp-experience exp').text\n",
    "        except:\n",
    "            experience=np.nan\n",
    "        try:\n",
    "            location=   job.find('span',class_='ni-job-tuple-icon ni-job-tuple-icon-srp-location loc').text\n",
    "        except:\n",
    "            location=   np.nan\n",
    "        try:\n",
    "            skills= ([skill.text for skill in job.find_all('li',class_='dot-gt tag-li')])\n",
    "        except:\n",
    "            skills= np.nan\n",
    "        \n",
    "        try:\n",
    "            posted =    job.find('span',class_='job-post-day').text\n",
    "        except:\n",
    "            posted =    np.nan\n",
    "    \n",
    "\n",
    "        data.append([title,job_link,stars,company,reviews,experience,location,skills,posted])"
   ]
  },
  {
   "cell_type": "code",
   "execution_count": 244,
   "metadata": {},
   "outputs": [],
   "source": [
    "df=pd.DataFrame(data,columns=['title','job_link','stars','company','reviews','experience','location','skills','posted'])"
   ]
  },
  {
   "cell_type": "code",
   "execution_count": 245,
   "metadata": {},
   "outputs": [],
   "source": [
    "df.to_csv('Jobs.csv',index=False)"
   ]
  },
  {
   "cell_type": "code",
   "execution_count": 246,
   "metadata": {},
   "outputs": [
    {
     "data": {
      "text/plain": [
       "47734"
      ]
     },
     "execution_count": 246,
     "metadata": {},
     "output_type": "execute_result"
    }
   ],
   "source": [
    "len(df) "
   ]
  },
  {
   "cell_type": "code",
   "execution_count": 247,
   "metadata": {},
   "outputs": [
    {
     "data": {
      "text/html": [
       "<div>\n",
       "<style scoped>\n",
       "    .dataframe tbody tr th:only-of-type {\n",
       "        vertical-align: middle;\n",
       "    }\n",
       "\n",
       "    .dataframe tbody tr th {\n",
       "        vertical-align: top;\n",
       "    }\n",
       "\n",
       "    .dataframe thead th {\n",
       "        text-align: right;\n",
       "    }\n",
       "</style>\n",
       "<table border=\"1\" class=\"dataframe\">\n",
       "  <thead>\n",
       "    <tr style=\"text-align: right;\">\n",
       "      <th></th>\n",
       "      <th>title</th>\n",
       "      <th>job_link</th>\n",
       "      <th>stars</th>\n",
       "      <th>company</th>\n",
       "      <th>reviews</th>\n",
       "      <th>experience</th>\n",
       "      <th>location</th>\n",
       "      <th>skills</th>\n",
       "      <th>posted</th>\n",
       "    </tr>\n",
       "  </thead>\n",
       "  <tbody>\n",
       "    <tr>\n",
       "      <th>0</th>\n",
       "      <td>Data Analyst</td>\n",
       "      <td>https://www.naukri.com/job-listings-data-analy...</td>\n",
       "      <td>4.1</td>\n",
       "      <td>Sparta Systems</td>\n",
       "      <td>13</td>\n",
       "      <td>NaN</td>\n",
       "      <td>Bengaluru</td>\n",
       "      <td>[]</td>\n",
       "      <td>Starts in 1-3 months</td>\n",
       "    </tr>\n",
       "    <tr>\n",
       "      <th>1</th>\n",
       "      <td>Data Analyst</td>\n",
       "      <td>https://www.naukri.com/job-listings-data-analy...</td>\n",
       "      <td>4.2</td>\n",
       "      <td>Target</td>\n",
       "      <td>744</td>\n",
       "      <td>2-6 Yrs</td>\n",
       "      <td>Bengaluru</td>\n",
       "      <td>[guest service, python, sql, ms office package...</td>\n",
       "      <td>1 week ago</td>\n",
       "    </tr>\n",
       "    <tr>\n",
       "      <th>2</th>\n",
       "      <td>Data Analyst - Immediate Hiring</td>\n",
       "      <td>https://www.naukri.com/job-listings-data-analy...</td>\n",
       "      <td>3.5</td>\n",
       "      <td>Simply Vyapar Apps</td>\n",
       "      <td>424</td>\n",
       "      <td>2-4 Yrs</td>\n",
       "      <td>Bengaluru(HSR Layout)</td>\n",
       "      <td>[data analysis, SQL, data models, database des...</td>\n",
       "      <td>Today</td>\n",
       "    </tr>\n",
       "    <tr>\n",
       "      <th>3</th>\n",
       "      <td>Data Analyst I</td>\n",
       "      <td>https://www.naukri.com/job-listings-data-analy...</td>\n",
       "      <td>3.1</td>\n",
       "      <td>Solera</td>\n",
       "      <td>120</td>\n",
       "      <td>2-7 Yrs</td>\n",
       "      <td>Bengaluru</td>\n",
       "      <td>[Ticketing, Automation, Excel, Analytical, Tro...</td>\n",
       "      <td>2 days ago</td>\n",
       "    </tr>\n",
       "    <tr>\n",
       "      <th>4</th>\n",
       "      <td>Data Analyst I</td>\n",
       "      <td>https://www.naukri.com/job-listings-data-analy...</td>\n",
       "      <td>4.7</td>\n",
       "      <td>Spireon</td>\n",
       "      <td>7</td>\n",
       "      <td>2-7 Yrs</td>\n",
       "      <td>Bengaluru</td>\n",
       "      <td>[Ticketing, Automation, Excel, Analytical, Tro...</td>\n",
       "      <td>2 days ago</td>\n",
       "    </tr>\n",
       "  </tbody>\n",
       "</table>\n",
       "</div>"
      ],
      "text/plain": [
       "                             title  \\\n",
       "0                     Data Analyst   \n",
       "1                     Data Analyst   \n",
       "2  Data Analyst - Immediate Hiring   \n",
       "3                   Data Analyst I   \n",
       "4                   Data Analyst I   \n",
       "\n",
       "                                            job_link stars  \\\n",
       "0  https://www.naukri.com/job-listings-data-analy...   4.1   \n",
       "1  https://www.naukri.com/job-listings-data-analy...   4.2   \n",
       "2  https://www.naukri.com/job-listings-data-analy...   3.5   \n",
       "3  https://www.naukri.com/job-listings-data-analy...   3.1   \n",
       "4  https://www.naukri.com/job-listings-data-analy...   4.7   \n",
       "\n",
       "              company reviews experience               location  \\\n",
       "0      Sparta Systems      13        NaN              Bengaluru   \n",
       "1              Target     744    2-6 Yrs              Bengaluru   \n",
       "2  Simply Vyapar Apps     424    2-4 Yrs  Bengaluru(HSR Layout)   \n",
       "3              Solera     120    2-7 Yrs              Bengaluru   \n",
       "4             Spireon       7    2-7 Yrs              Bengaluru   \n",
       "\n",
       "                                              skills                posted  \n",
       "0                                                 []  Starts in 1-3 months  \n",
       "1  [guest service, python, sql, ms office package...            1 week ago  \n",
       "2  [data analysis, SQL, data models, database des...                 Today  \n",
       "3  [Ticketing, Automation, Excel, Analytical, Tro...            2 days ago  \n",
       "4  [Ticketing, Automation, Excel, Analytical, Tro...            2 days ago  "
      ]
     },
     "execution_count": 247,
     "metadata": {},
     "output_type": "execute_result"
    }
   ],
   "source": [
    "df.head()"
   ]
  },
  {
   "cell_type": "code",
   "execution_count": 249,
   "metadata": {},
   "outputs": [
    {
     "data": {
      "text/plain": [
       "title            0\n",
       "job_link         0\n",
       "stars         7706\n",
       "company       7706\n",
       "reviews       7706\n",
       "experience     344\n",
       "location         0\n",
       "skills           0\n",
       "posted           0\n",
       "dtype: int64"
      ]
     },
     "execution_count": 249,
     "metadata": {},
     "output_type": "execute_result"
    }
   ],
   "source": [
    "df.isnull().sum()"
   ]
  },
  {
   "cell_type": "code",
   "execution_count": null,
   "metadata": {},
   "outputs": [],
   "source": []
  }
 ],
 "metadata": {
  "kernelspec": {
   "display_name": "Python 3",
   "language": "python",
   "name": "python3"
  },
  "language_info": {
   "codemirror_mode": {
    "name": "ipython",
    "version": 3
   },
   "file_extension": ".py",
   "mimetype": "text/x-python",
   "name": "python",
   "nbconvert_exporter": "python",
   "pygments_lexer": "ipython3",
   "version": "3.13.2"
  }
 },
 "nbformat": 4,
 "nbformat_minor": 2
}
